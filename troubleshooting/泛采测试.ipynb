{
 "cells": [
  {
   "cell_type": "code",
   "execution_count": 13,
   "metadata": {},
   "outputs": [
    {
     "name": "stdout",
     "output_type": "stream",
     "text": [
      "403\n"
     ]
    }
   ],
   "source": [
    "import requests\n",
    "\n",
    "url = \"https://home.kpmg/search/?all_sites=false&i=1&language=zh&page=3&q=&q1=All&q10=All&q11=All&q12=All&q13=All&q2=Press+Release&q3=article-details-template|insights-flexible-template|editable-flex-template|editable-campaign-template&q4=All&q5=All&q6=All&q7=All&q8=All&q9=All&rank=rank_cn_zh&site=cn_zh&sort=KPMG_Filter_Date&sp_c=20&sp_dedupe_field=KPMG_Document_ID&sp_k=cn_zh&x1=KPMG_Tab_Type&x10=KPMG_Filter_Year&x11=KPMG_Market_Path&x12=KPMG_Ser_Path_Loc_pa&x13=KPMG_Topic_Path_pa&x2=KPMG_Article_Type&x3=KPMG_Template_Type&x4=KPMG_Cont_Mem_Firm&x5=KPMG_Geo_Rel_Path&x6=KPMG_Ind_Path_Loc_pa&x7=KPMG_Topic_Path&x8=KPMG_Cont_Type_Path&x9=KPMG_Insights_Path\"\n",
    "headers = {\n",
    "    \"accept\": \"application/json, text/javascript, */*; q=0.01\",\n",
    "    \"accept-encoding\": \"gzip, deflate, br\",\n",
    "    \"accept-language\": \"en-US,en;q=0.9,zh-CN;q=0.8,zh;q=0.7\",\n",
    "    \"cache-control\": \"no-cache\",\n",
    "#     \"cookie\": \"sat_track=true; gig_bootstrap_3_RaBrzznC_MTxoPM3J3haLwEejwsYEvWdirKz8LXidCo-n8jqk_56-otIPv13t3Bu=login_ver3\",\n",
    "    \"dnt\": \"1\",\n",
    "    \"pragma\": \"no-cache\",\n",
    "    \"referer\": \"https://home.kpmg/cn/zh/home/news-media/press-releases.html\",\n",
    "    \"sec-fetch-dest\": \"empty\",\n",
    "    \"sec-fetch-mode\": \"cors\",\n",
    "    \"sec-fetch-site\": \"same-origin\",\n",
    "    \"user-agent\": \"Mozilla/5.0 (Macintosh; Intel Mac OS X 10_15_6) AppleWebKit/537.36 (KHTML, like Gecko) Chrome/84.0.4147.89 Safari/537.36\",\n",
    "    \"x-requested-with\": \"XMLHttpRequest\"\n",
    "}\n",
    "res = requests.get(url, headers=headers)\n",
    "# 403状态码可能是h2协议\n",
    "print(res.status_code)\n",
    "# print(res.json())"
   ]
  },
  {
   "cell_type": "code",
   "execution_count": null,
   "metadata": {},
   "outputs": [],
   "source": [
    "s = \"您现在的位置：首页 > 民生 > 科创 > \"\n",
    "print(s.split())"
   ]
  },
  {
   "cell_type": "code",
   "execution_count": 2,
   "metadata": {},
   "outputs": [
    {
     "name": "stdout",
     "output_type": "stream",
     "text": [
      "[('2020', '07', '27'), ('1735', '50', '18')]\n"
     ]
    }
   ],
   "source": [
    "import re\n",
    "\n",
    "url = \"https://zdreview.com/wp-content/uploads/2020/07/2020072717355018.png\"\n",
    "p = re.compile(r'(?P<year>\\d{4})(?P<month>\\d{2})(?P<day>\\d{2})')\n",
    "res = p.findall(url)\n",
    "print(res[0])"
   ]
  },
  {
   "cell_type": "code",
   "execution_count": 3,
   "metadata": {},
   "outputs": [
    {
     "name": "stdout",
     "output_type": "stream",
     "text": [
      "11\n"
     ]
    }
   ],
   "source": [
    "s = 'mspoweruser'\n",
    "print(len(s))"
   ]
  },
  {
   "cell_type": "code",
   "execution_count": null,
   "metadata": {},
   "outputs": [],
   "source": [
    "import requests\n",
    "url = \"https://home.kpmg/search/?all_sites=false&i=1&language=zh&page=3&q=&q1=All&q10=All&q11=All&q12=All&q13=All&q2=Press+Release&q3=article-details-template|insights-flexible-template|editable-flex-template|editable-campaign-template&q4=All&q5=All&q6=All&q7=All&q8=All&q9=All&rank=rank_cn_zh&site=cn_zh&sort=KPMG_Filter_Date&sp_c=20&sp_dedupe_field=KPMG_Document_ID&sp_k=cn_zh&x1=KPMG_Tab_Type&x10=KPMG_Filter_Year&x11=KPMG_Market_Path&x12=KPMG_Ser_Path_Loc_pa&x13=KPMG_Topic_Path_pa&x2=KPMG_Article_Type&x3=KPMG_Template_Type&x4=KPMG_Cont_Mem_Firm&x5=KPMG_Geo_Rel_Path&x6=KPMG_Ind_Path_Loc_pa&x7=KPMG_Topic_Path&x8=KPMG_Cont_Type_Path&x9=KPMG_Insights_Path\"\n",
    "\n",
    "res = requests.get(url)\n",
    "print(res.text)"
   ]
  },
  {
   "cell_type": "code",
   "execution_count": null,
   "metadata": {},
   "outputs": [],
   "source": [
    "import requests\n",
    "\n",
    "url = \"https://finance.yahoo.com/_finance_doubledown/api/resource?bkt=fd-hstrm2-rc3&crumb=o6irUKrCxf0&device=desktop&ecma=modern&feature=adsMigration%2CcanvassOffnet%2CccOnMute%2Cdebouncesearch100%2CdeferDarla%2CemptyServiceWorker%2CenableCCPAFooter%2CenableCMP%2CenableConsentData%2CenableFeatureTours%2CenableFinancialsTemplate%2CenableFreeFinRichSearch%2CenableGuceJs%2CenableGuceJsOverlay%2CenableNavFeatureCue%2CenableNewResearchInsights%2CenablePfSummaryForEveryone%2CenablePremiumSingleCTA%2CenablePremiumScreeners%2CenablePrivacyUpdate%2CenableStreamDebounce%2CenableTheming%2CenableUpgradeLeafPage%2CenableVideoURL%2CenableYahooSans%2CenableYodleeErrorMsgCriOS%2CncpListStream%2CncpPortfolioStream%2CncpQspStream%2CncpStream%2CncpStreamIntl%2CncpTopicStream%2CnewContentAttribution%2CnewLogo%2CoathPlayer%2CoptimizeSearch%2CrelatedVideoFeature%2CreportReactMarkupDiff%2CthreeAmigos%2CwaferHeader%2CvideoNativePlaylist%2CdisableCommentsMessage%2Clivecoverage%2CdarlaFirstRenderingVisible%2CenableTradeit%2CdisableTrading%2CenableFeatureBar%2CenableSearchEnhancement%2CenableUserSentiment%2CenableBankrateWidget%2CncpHpStream%2CmabHpStream%2CcanvassReplies%2CenablePremiumFinancials%2CenableInstapage%2CenableNewResearchFilterMW%2CenableSingleRail%2CshowMorningStar%2CenableYodlee%2CenableReportDetail%2CenhanceAddToWL%2CsponsoredAds%2CenableStageAds%2CenableTradeItLinkBrokerSecondaryPromo%2CpremiumPromoHeader%2CenableQspPremiumPromoSmall%2CclientDelayNone%2CthreeAmigosMabEnabled%2CthreeAmigosAdsEnabledAndStreamIndex0%2CenableRelatedTickers%2CenableNotification%2CstreamBucketIdRS1&intl=us&lang=en-US&partner=none&prid=3nj5vehfj9r2c&region=US&site=finance&tz=Asia%2FShanghai&ver=0.102.3864\"\n",
    "\n",
    "headers = {\n",
    "    \"accept\": \"*/*\",\n",
    "    \"accept-encoding\": \"gzip, deflate, br\",\n",
    "    \"accept-language\": \"en-US,en;q=0.9,zh-CN;q=0.8,zh;q=0.7\",\n",
    "    \"cache-control\": \"no-cache\",\n",
    "    \"content-length\": \"17824\",\n",
    "    \"content-type\": \"application/json\",\n",
    "    \"cookie\": \"B=4koujc9fj9r2c&b=3&s=ns; GUC=AQEBAQFfNj1fPkIg5ASa; A1=d=AQABBEzsNF8CEKp4ZWhZo2UqT9aF_2LTY0oFEgEBAQE9Nl8-XwAAAAAA_SMAAAcITOw0X2LTY0o&S=AQAAAjQz-wfH7kOLKP9b0hbI5zc; A3=d=AQABBEzsNF8CEKp4ZWhZo2UqT9aF_2LTY0oFEgEBAQE9Nl8-XwAAAAAA_SMAAAcITOw0X2LTY0o&S=AQAAAjQz-wfH7kOLKP9b0hbI5zc; A1S=d=AQABBEzsNF8CEKp4ZWhZo2UqT9aF_2LTY0oFEgEBAQE9Nl8-XwAAAAAA_SMAAAcITOw0X2LTY0o&S=AQAAAjQz-wfH7kOLKP9b0hbI5zc&j=WORLD; cmp=t=1597303893&j=0\",\n",
    "    \"dnt\": \"1\",\n",
    "    \"origin\": \"https://finance.yahoo.com\",\n",
    "    \"pragma\": \"no-cache\",\n",
    "    \"referer\": \"https://finance.yahoo.com/\",\n",
    "    \"sec-fetch-dest\": \"empty\",\n",
    "    \"sec-fetch-mode\": \"cors\",\n",
    "    \"sec-fetch-site\": \"same-origin\",\n",
    "    \"user-agent\": \"Mozilla/5.0 (Macintosh; Intel Mac OS X 10_15_6) AppleWebKit/537.36 (KHTML, like Gecko) Chrome/84.0.4147.89 Safari/537.36\",\n",
    "    \"x-requested-with\": \"XMLHttpRequest\"\n",
    "}\n",
    "data = '{\"requests\":{\"g0\":{\"resource\":\"StreamService\",\"operation\":\"read\",\"params\":{\"ui\":{\"comments_offnet\":true,\"dispatch_content_store\":true,\"editorial_featured_count\":1,\"image_quality_override\":true,\"link_out_allowed\":true,\"ntk_bypassA3c\":true,\"pubtime_maxage\":0,\"relative_links\":true,\"show_comment_count\":true,\"smart_crop\":true,\"storyline_count\":2,\"storyline_enabled\":true,\"storyline_min\":2,\"summary\":true,\"thumbnail_size\":100,\"tiles\":{\"allowPartialRows\":true,\"doubleTallStart\":0,\"featured_label\":false,\"gradient\":false,\"height\":175,\"resizeImages\":false,\"textOnly\":[{\"backgroundColor\":\"#fff\",\"foregroundColor\":\"#000\"}],\"width_max\":300,\"width_min\":200},\"view\":\"mega\",\"editorial_content_count\":0,\"editorial_content_min\":0,\"enable_lead_fallback_image\":true},\"forceJpg\":true,\"releasesParams\":{\"limit\":20,\"offset\":0},\"ncpParams\":{\"query\":{\"streamBucketId\":\"contentsim-rs-1\",\"version\":\"v2\",\"mabEnabled\":true,\"mabContentEnabled\":true,\"adsTimeout\":240},\"body\":{\"gqlVariables\":{\"main\":{\"pagination\":{\"uuids\":\"paginationString={\\\"streamPagination\\\":{\\\"uuids\\\":[{\\\"id\\\":\\\"47879956-adf3-3770-8b38-22d05a5eb67f\\\",\\\"type\\\":\\\"ymedia:type=story\\\"},{\\\"id\\\":\\\"434a67dc-c2f5-3e35-91f8-d25645df1225\\\",\\\"type\\\":\\\"ymedia:type=story\\\"},{\\\"id\\\":\\\"76ebcd57-0355-3265-9c1d-176c7f2b5543\\\",\\\"type\\\":\\\"ymedia:type=story\\\"},{\\\"id\\\":\\\"abfb4fbd-6160-340c-80bd-063c3209adb2\\\",\\\"type\\\":\\\"ymedia:type=story\\\"},{\\\"id\\\":\\\"b6fd41ef-629f-344b-8cb3-b467f0cb30c8\\\",\\\"type\\\":\\\"ymedia:type=story\\\"},{\\\"id\\\":\\\"8ba4b18e-d89d-34e8-932e-f437815da9dd\\\",\\\"type\\\":\\\"ymedia:type=story\\\"},{\\\"id\\\":\\\"2e25e345-d44a-3f55-9bb3-6fe90734bea6\\\",\\\"type\\\":\\\"ymedia:type=story\\\"},{\\\"id\\\":\\\"53c68efb-9342-3830-8042-b46b0faed940\\\",\\\"type\\\":\\\"ymedia:type=story\\\"},{\\\"id\\\":\\\"f5575223-1096-3794-8732-4a79150129c9\\\",\\\"type\\\":\\\"ymedia:type=story\\\"},{\\\"id\\\":\\\"2c24b5bc-da78-3217-a590-d5ba711b4451\\\",\\\"type\\\":\\\"ymedia:type=story\\\"},{\\\"id\\\":\\\"25c4732c-e701-3389-aec7-37eaffd4b879\\\",\\\"type\\\":\\\"ymedia:type=story\\\"},{\\\"id\\\":\\\"0ccec6db-f2e0-3d7c-9ea2-da2dff05358d\\\",\\\"type\\\":\\\"ymedia:type=story\\\"},{\\\"id\\\":\\\"3df13009-6d9b-340b-aaf1-fdd78bc01ff2\\\",\\\"type\\\":\\\"ymedia:type=story\\\"},{\\\"id\\\":\\\"81ad9f2b-229d-381a-adff-7ab5bb909d40\\\",\\\"type\\\":\\\"ymedia:type=story\\\"},{\\\"id\\\":\\\"e9e9e8b3-e94e-3d0c-8d65-d059af24b262\\\",\\\"type\\\":\\\"ymedia:type=story\\\"},{\\\"id\\\":\\\"66ed0520-0885-3549-9e07-9174618ab52c\\\",\\\"type\\\":\\\"ymedia:type=story\\\"},{\\\"id\\\":\\\"ddda5a3d-f429-3f3b-8c42-6f97522c0e55\\\",\\\"type\\\":\\\"ymedia:type=story\\\"},{\\\"id\\\":\\\"723df40e-a214-32e4-a37d-a8f25345de8b\\\",\\\"type\\\":\\\"ymedia:type=story\\\"},{\\\"id\\\":\\\"f2c04fe4-f476-3074-86b1-80d29425deee\\\",\\\"type\\\":\\\"ymedia:type=story\\\"},{\\\"id\\\":\\\"08fc8769-1c82-32e0-a194-2ca8ad146452\\\",\\\"type\\\":\\\"ymedia:type=story\\\"},{\\\"id\\\":\\\"00f8263b-0bb1-3f1b-946e-fca2475dac35\\\",\\\"type\\\":\\\"ymedia:type=story\\\"},{\\\"id\\\":\\\"47c089df-1841-3827-b793-47a78edcdc9a\\\",\\\"type\\\":\\\"ymedia:type=story\\\"},{\\\"id\\\":\\\"19d6cc23-25f5-32b7-a7cd-2cfc4994930e\\\",\\\"type\\\":\\\"ymedia:type=story\\\"},{\\\"id\\\":\\\"369d3b07-c902-337b-811c-e7348f799c2f\\\",\\\"type\\\":\\\"ymedia:type=story\\\"},{\\\"id\\\":\\\"a2dbe6e1-a2ed-300c-ae6e-7a82157fa012\\\",\\\"type\\\":\\\"ymedia:type=story\\\"},{\\\"id\\\":\\\"618f7eea-a755-3e3d-8bfc-a51523f53794\\\",\\\"type\\\":\\\"ymedia:type=story\\\"},{\\\"id\\\":\\\"9efe92d4-dfd8-383a-8da9-9507ba880861\\\",\\\"type\\\":\\\"ymedia:type=story\\\"},{\\\"id\\\":\\\"740c2bf9-6ae6-30e0-9b28-ace7b10f19d1\\\",\\\"type\\\":\\\"ymedia:type=story\\\"},{\\\"id\\\":\\\"25c531b2-bd27-3ab6-8aaa-cedccff08c19\\\",\\\"type\\\":\\\"ymedia:type=story\\\"},{\\\"id\\\":\\\"c3d806de-5b40-3b5e-9fc7-4dfd4719b5d3\\\",\\\"type\\\":\\\"ymedia:type=story\\\"},{\\\"id\\\":\\\"5c9064e9-8171-3084-9707-d1ed9f3eb89c\\\",\\\"type\\\":\\\"ymedia:type=story\\\"},{\\\"id\\\":\\\"6eea22c3-c36a-3484-a3b8-a3cd8f16ab51\\\",\\\"type\\\":\\\"ymedia:type=story\\\"},{\\\"id\\\":\\\"ace01bf4-7fd7-39bb-bb3f-ffc0f94304f9\\\",\\\"type\\\":\\\"ymedia:type=story\\\"},{\\\"id\\\":\\\"2361265c-243e-32dc-9fdc-a75c6fcc5498\\\",\\\"type\\\":\\\"ymedia:type=story\\\"},{\\\"id\\\":\\\"f829272d-1618-3cf7-8df0-60d662d813ea\\\",\\\"type\\\":\\\"ymedia:type=story\\\"},{\\\"id\\\":\\\"fce982fb-383d-301f-9f8c-1802bcfc106b\\\",\\\"type\\\":\\\"ymedia:type=story\\\"},{\\\"id\\\":\\\"a04f23b1-d7a4-315f-b3f2-bb27041d5a6d\\\",\\\"type\\\":\\\"ymedia:type=story\\\"},{\\\"id\\\":\\\"e1c877da-ccb7-37b9-ab5b-67cb391a7557\\\",\\\"type\\\":\\\"ymedia:type=story\\\"},{\\\"id\\\":\\\"a8dbb757-a17f-33f1-8f29-264aa9688845\\\",\\\"type\\\":\\\"ymedia:type=story\\\"},{\\\"id\\\":\\\"91a8a8bb-eeb6-30bf-afdc-0c201a2b2e27\\\",\\\"type\\\":\\\"ymedia:type=story\\\"},{\\\"id\\\":\\\"4413f702-9dd8-36d0-a561-4a4623042ea4\\\",\\\"type\\\":\\\"ymedia:type=story\\\"},{\\\"id\\\":\\\"0f112193-4e48-3526-ae4a-e69573dadde0\\\",\\\"type\\\":\\\"ymedia:type=story\\\"},{\\\"id\\\":\\\"ce8bf29d-5e86-36a1-91f5-7ad9cd4ee6d8\\\",\\\"type\\\":\\\"ymedia:type=story\\\"},{\\\"id\\\":\\\"b1f6fbec-dca8-3ab3-b45a-355d03faad39\\\",\\\"type\\\":\\\"ymedia:type=story\\\"},{\\\"id\\\":\\\"8979c79c-491f-3cf9-80c8-bd432cbda140\\\",\\\"type\\\":\\\"ymedia:type=story\\\"},{\\\"id\\\":\\\"69ba9c58-74f1-3aec-a2aa-6339392f105d\\\",\\\"type\\\":\\\"ymedia:type=story\\\"},{\\\"id\\\":\\\"71712f83-3544-3dcb-9efb-f0bfdbc406e1\\\",\\\"type\\\":\\\"ymedia:type=story\\\"},{\\\"id\\\":\\\"344ee48f-a3b9-30f6-a843-efab827d8c58\\\",\\\"type\\\":\\\"ymedia:type=story\\\"},{\\\"id\\\":\\\"65965c24-d61b-3c55-a54d-de8f79f478c2\\\",\\\"type\\\":\\\"ymedia:type=story\\\"},{\\\"id\\\":\\\"6af2ea87-d659-3e5e-9abf-c992e79ae270\\\",\\\"type\\\":\\\"ymedia:type=story\\\"},{\\\"id\\\":\\\"963c01cb-2be9-3e37-8403-21673a1e1024\\\",\\\"type\\\":\\\"ymedia:type=story\\\"},{\\\"id\\\":\\\"9d121a54-e6b4-3e6a-819e-02333278c746\\\",\\\"type\\\":\\\"ymedia:type=story\\\"},{\\\"id\\\":\\\"7edd0c31-aec0-35ce-9f55-204df0b0363e\\\",\\\"type\\\":\\\"ymedia:type=story\\\"},{\\\"id\\\":\\\"a955ffde-3319-39c5-8c33-b77017f27042\\\",\\\"type\\\":\\\"ymedia:type=story\\\"},{\\\"id\\\":\\\"5b9ae2e5-6c00-3679-bdd3-9aa37f652d01\\\",\\\"type\\\":\\\"ymedia:type=story\\\"},{\\\"id\\\":\\\"fdcc8ec4-5733-396e-8594-90aa300f446a\\\",\\\"type\\\":\\\"ymedia:type=story\\\"},{\\\"id\\\":\\\"54472f84-661b-33f0-9436-9bb9a5800108\\\",\\\"type\\\":\\\"ymedia:type=story\\\"},{\\\"id\\\":\\\"708823f4-7ded-3a8e-9979-dfa9edeb720e\\\",\\\"type\\\":\\\"ymedia:type=story\\\"},{\\\"id\\\":\\\"49cf4d1c-6789-3347-80cf-1120a9680ed6\\\",\\\"type\\\":\\\"ymedia:type=story\\\"},{\\\"id\\\":\\\"998b4651-4e8b-3df9-a1fb-1d547a4dc09c\\\",\\\"type\\\":\\\"ymedia:type=story\\\"},{\\\"id\\\":\\\"bbfa0811-ae43-348c-bef2-84b511ffd42b\\\",\\\"type\\\":\\\"ymedia:type=story\\\"},{\\\"id\\\":\\\"552196b5-8bee-3fa3-81b9-0d24e0556100\\\",\\\"type\\\":\\\"ymedia:type=story\\\"},{\\\"id\\\":\\\"f9253726-3310-3dbc-b022-4f3c05204b5a\\\",\\\"type\\\":\\\"ymedia:type=story\\\"},{\\\"id\\\":\\\"364ac947-a279-38c9-b033-55d8ddbd5e82\\\",\\\"type\\\":\\\"ymedia:type=story\\\"},{\\\"id\\\":\\\"94cffbf4-5daa-38b5-ad76-0b078bf5025e\\\",\\\"type\\\":\\\"ymedia:type=story\\\"},{\\\"id\\\":\\\"126d86ef-c242-37b3-b9e1-b048f6586b05\\\",\\\"type\\\":\\\"ymedia:type=story\\\"},{\\\"id\\\":\\\"2c871595-3aba-3f05-8f9d-5eac962bc32a\\\",\\\"type\\\":\\\"ymedia:type=story\\\"},{\\\"id\\\":\\\"4fd9c177-be8c-35e0-8d0d-1f86c18e3b31\\\",\\\"type\\\":\\\"ymedia:type=story\\\"},{\\\"id\\\":\\\"b61060bc-b1be-3c44-a5ad-0c306fb3d8af\\\",\\\"type\\\":\\\"ymedia:type=story\\\"},{\\\"id\\\":\\\"f64b3eae-b048-3a7f-961d-ad2c5682547d\\\",\\\"type\\\":\\\"ymedia:type=story\\\"},{\\\"id\\\":\\\"4af516de-5807-38db-9e6e-eee0043eb311\\\",\\\"type\\\":\\\"ymedia:type=story\\\"},{\\\"id\\\":\\\"712a6d4d-7928-3911-a347-3ffc3faea1d4\\\",\\\"type\\\":\\\"ymedia:type=story\\\"},{\\\"id\\\":\\\"f97ba858-603a-33e6-a1d4-e79d7f6b3baf\\\",\\\"type\\\":\\\"ymedia:type=story\\\"},{\\\"id\\\":\\\"71d11342-6aa6-34ce-b3e6-aa8ae7873ab1\\\",\\\"type\\\":\\\"ymedia:type=story\\\"},{\\\"id\\\":\\\"27d0efd7-587a-397a-a5c2-09c587221e0c\\\",\\\"type\\\":\\\"ymedia:type=story\\\"},{\\\"id\\\":\\\"d15d3aa4-c41c-38f5-b8d7-221d559234e4\\\",\\\"type\\\":\\\"ymedia:type=story\\\"},{\\\"id\\\":\\\"aa4efd4f-e4d5-3af8-9815-55db3b0e57b8\\\",\\\"type\\\":\\\"ymedia:type=story\\\"},{\\\"id\\\":\\\"f8b52324-109d-301e-9ea2-fde7c4b79f20\\\",\\\"type\\\":\\\"ymedia:type=story\\\"},{\\\"id\\\":\\\"d07f6d57-d4bb-3277-a438-17b8d1548d8e\\\",\\\"type\\\":\\\"ymedia:type=story\\\"},{\\\"id\\\":\\\"17e2988c-f7bc-3221-af94-3418f02bd355\\\",\\\"type\\\":\\\"ymedia:type=story\\\"},{\\\"id\\\":\\\"5da0e0b0-d3bc-358d-b899-862a44ebd13c\\\",\\\"type\\\":\\\"ymedia:type=story\\\"},{\\\"id\\\":\\\"561fdc5a-5185-3a50-bcf8-2342675f1894\\\",\\\"type\\\":\\\"ymedia:type=story\\\"},{\\\"id\\\":\\\"ffd7600f-914c-3da3-a3da-a337416c5e2d\\\",\\\"type\\\":\\\"ymedia:type=story\\\"},{\\\"id\\\":\\\"7385ecb4-7f35-3e4d-8f5c-c4b435b7e232\\\",\\\"type\\\":\\\"ymedia:type=story\\\"},{\\\"id\\\":\\\"f5c87a07-5b73-3b98-ab90-4d93647744ad\\\",\\\"type\\\":\\\"ymedia:type=story\\\"},{\\\"id\\\":\\\"a136aebe-df00-3e90-8ed2-73f363cafef7\\\",\\\"type\\\":\\\"ymedia:type=story\\\"},{\\\"id\\\":\\\"b35d2bd1-8fc4-3aff-9e0d-6613ad045b7a\\\",\\\"type\\\":\\\"ymedia:type=story\\\"},{\\\"id\\\":\\\"92f41bee-ff60-31ce-8a3a-926e2bb6ece4\\\",\\\"type\\\":\\\"ymedia:type=story\\\"},{\\\"id\\\":\\\"08847109-28a2-33db-8922-c47539c56354\\\",\\\"type\\\":\\\"ymedia:type=story\\\"},{\\\"id\\\":\\\"25659f70-a461-38d0-9c77-1a975c032c35\\\",\\\"type\\\":\\\"ymedia:type=story\\\"},{\\\"id\\\":\\\"cf5343b7-0653-3736-b19b-bb80ab1b82f8\\\",\\\"type\\\":\\\"ymedia:type=story\\\"},{\\\"id\\\":\\\"5402ff82-9b9b-3b83-b7bb-f09cd7ad7a23\\\",\\\"type\\\":\\\"ymedia:type=story\\\"},{\\\"id\\\":\\\"61982666-da63-3fd1-9fde-161075a46c6d\\\",\\\"type\\\":\\\"ymedia:type=story\\\"},{\\\"id\\\":\\\"15fce164-0e87-36df-a3de-f026ece1d6d3\\\",\\\"type\\\":\\\"ymedia:type=story\\\"},{\\\"id\\\":\\\"a6b10eb6-18b2-3fa9-8d29-f9bf04fc121f\\\",\\\"type\\\":\\\"ymedia:type=story\\\"},{\\\"id\\\":\\\"be051f73-8e6b-3089-b18b-2342adf70865\\\",\\\"type\\\":\\\"ymedia:type=story\\\"},{\\\"id\\\":\\\"a3cd339d-1e65-323c-8beb-a4925e61c793\\\",\\\"type\\\":\\\"ymedia:type=story\\\"},{\\\"id\\\":\\\"8413f944-324f-3f63-a50d-f0461604318c\\\",\\\"type\\\":\\\"ymedia:type=story\\\"},{\\\"id\\\":\\\"1e910300-551f-3305-97aa-8d655b728ba4\\\",\\\"type\\\":\\\"ymedia:type=story\\\"},{\\\"id\\\":\\\"958c9756-b8be-3922-ae06-d193f6127836\\\",\\\"type\\\":\\\"ymedia:type=story\\\"},{\\\"id\\\":\\\"91c6f468-19dd-3c04-bbcc-16cb7fff27d4\\\",\\\"type\\\":\\\"ymedia:type=story\\\"},{\\\"id\\\":\\\"dc5d4c87-babb-3f8a-b288-4c216c8728fc\\\",\\\"type\\\":\\\"ymedia:type=story\\\"},{\\\"id\\\":\\\"c831cc3a-cb8a-33f1-8c0c-a058f6c2dfc3\\\",\\\"type\\\":\\\"ymedia:type=story\\\"},{\\\"id\\\":\\\"56b63108-d08b-3842-a679-e85e1a16b510\\\",\\\"type\\\":\\\"ymedia:type=story\\\"},{\\\"id\\\":\\\"6fc13f76-4689-38fc-9b43-89289e81aaac\\\",\\\"type\\\":\\\"ymedia:type=story\\\"},{\\\"id\\\":\\\"1c0aa153-6eb9-3045-a6e4-9caa00bb8cc0\\\",\\\"type\\\":\\\"ymedia:type=story\\\"},{\\\"id\\\":\\\"e4d50409-1b1a-3c8a-985b-a8ce445af0b2\\\",\\\"type\\\":\\\"ymedia:type=story\\\"},{\\\"id\\\":\\\"b8904793-8f03-3cdd-a262-c8f7f7d8d98e\\\",\\\"type\\\":\\\"ymedia:type=story\\\"},{\\\"id\\\":\\\"3d169072-60cd-3255-a858-8aed59073887\\\",\\\"type\\\":\\\"ymedia:type=story\\\"},{\\\"id\\\":\\\"96ff7934-3db0-3766-bf1a-5bf919f2cf1a\\\",\\\"type\\\":\\\"ymedia:type=story\\\"},{\\\"id\\\":\\\"3e0a0c73-1b53-3639-8dd4-6ff1f138b2c8\\\",\\\"type\\\":\\\"ymedia:type=story\\\"},{\\\"id\\\":\\\"b4d8481b-584d-39f1-a65a-55a20b52ad54\\\",\\\"type\\\":\\\"ymedia:type=story\\\"},{\\\"id\\\":\\\"c01c7011-9314-354d-ac76-4e273d6351f9\\\",\\\"type\\\":\\\"ymedia:type=story\\\"},{\\\"id\\\":\\\"82d1cef5-c4cb-3a98-b744-0cc0a90cbf03\\\",\\\"type\\\":\\\"ymedia:type=story\\\"},{\\\"id\\\":\\\"0f52bc6e-7749-3aab-b990-e4201f22ab55\\\",\\\"type\\\":\\\"ymedia:type=story\\\"},{\\\"id\\\":\\\"8afa9274-70ac-380d-b840-2bebc8681222\\\",\\\"type\\\":\\\"ymedia:type=story\\\"},{\\\"id\\\":\\\"03ecf769-1fcb-35f3-8a13-0a83d95df9a1\\\",\\\"type\\\":\\\"ymedia:type=story\\\"},{\\\"id\\\":\\\"5271a84c-cc11-3282-83da-f31ba88bc0f8\\\",\\\"type\\\":\\\"ymedia:type=story\\\"},{\\\"id\\\":\\\"f153ec94-8ffd-3c88-a3fb-99d731987931\\\",\\\"type\\\":\\\"ymedia:type=story\\\"},{\\\"id\\\":\\\"bd52766f-107f-3950-8a55-d36a7bf66176\\\",\\\"type\\\":\\\"ymedia:type=story\\\"},{\\\"id\\\":\\\"46a5cf4b-a4a7-3476-8fb6-746b91a804dd\\\",\\\"type\\\":\\\"ymedia:type=story\\\"},{\\\"id\\\":\\\"5443b250-19f6-334b-8cc4-f3154042fffb\\\",\\\"type\\\":\\\"ymedia:type=story\\\"},{\\\"id\\\":\\\"fbb4a94b-7b47-3408-949a-a5485b1f3dd8\\\",\\\"type\\\":\\\"ymedia:type=story\\\"},{\\\"id\\\":\\\"af104d27-d4d9-3027-a686-05a61093eaeb\\\",\\\"type\\\":\\\"ymedia:type=story\\\"},{\\\"id\\\":\\\"b0dae25f-0bb1-3c8d-b1c2-f7265a0c314a\\\",\\\"type\\\":\\\"ymedia:type=story\\\"},{\\\"id\\\":\\\"d30d0c73-892b-3ab4-b03f-6cec9a566f2b\\\",\\\"type\\\":\\\"ymedia:type=story\\\"},{\\\"id\\\":\\\"3518312d-d2ea-37af-8f9f-6eb0a591af84\\\",\\\"type\\\":\\\"ymedia:type=story\\\"},{\\\"id\\\":\\\"5929b7ac-025c-309f-91dc-3d78e3ccc851\\\",\\\"type\\\":\\\"ymedia:type=story\\\"},{\\\"id\\\":\\\"8958fcc2-28bf-3bc2-b0f5-22c128a860b3\\\",\\\"type\\\":\\\"ymedia:type=story\\\"},{\\\"id\\\":\\\"98c9e003-e17a-38a2-a76f-2c1a0e72b980\\\",\\\"type\\\":\\\"ymedia:type=story\\\"},{\\\"id\\\":\\\"468e243e-6920-39bf-a41a-c1e059914a2e\\\",\\\"type\\\":\\\"ymedia:type=story\\\"},{\\\"id\\\":\\\"5f7ec058-1480-3dd4-ad90-3e5f95005fe6\\\",\\\"type\\\":\\\"ymedia:type=story\\\"},{\\\"id\\\":\\\"99f47a3d-252a-343b-922b-c236702b1521\\\",\\\"type\\\":\\\"ymedia:type=story\\\"},{\\\"id\\\":\\\"f3dc2e30-c916-3e34-bd87-1e5003aa209f\\\",\\\"type\\\":\\\"ymedia:type=story\\\"},{\\\"id\\\":\\\"8475fb57-9bdc-3ca9-a7f2-84c67153a681\\\",\\\"type\\\":\\\"ymedia:type=story\\\"},{\\\"id\\\":\\\"795bd562-bcc7-33bb-b280-07a137286b43\\\",\\\"type\\\":\\\"ymedia:type=story\\\"},{\\\"id\\\":\\\"c3e27d09-1f9a-3353-be74-e77939819125\\\",\\\"type\\\":\\\"ymedia:type=story\\\"},{\\\"id\\\":\\\"28d98147-5a93-399e-ba63-038370bdbd11\\\",\\\"type\\\":\\\"ymedia:type=story\\\"},{\\\"id\\\":\\\"30cfcb01-5d57-3cb7-87fe-9dc1aca22f0c\\\",\\\"type\\\":\\\"ymedia:type=story\\\"},{\\\"id\\\":\\\"8bdd0b21-e639-38a2-bbef-00404f0f8502\\\",\\\"type\\\":\\\"ymedia:type=story\\\"}],\\\"seenHits\\\":[{\\\"id\\\":\\\"6ba2e254-18c2-39ac-8f71-b90581ab0e31\\\",\\\"type\\\":\\\"ymedia:type=story\\\"},{\\\"id\\\":\\\"4c91c036-ea02-38fa-91af-f37c2d1151b4\\\",\\\"type\\\":\\\"ymedia:type=story\\\"},{\\\"id\\\":\\\"627d38cf-37bb-3922-b9a6-5064717f1386\\\",\\\"type\\\":\\\"ymedia:type=story\\\"},{\\\"id\\\":\\\"613b5aee-eebe-37e4-b873-9beda6e78bf3\\\",\\\"type\\\":\\\"ymedia:type=story\\\"},{\\\"id\\\":\\\"2d78ff4c-ede0-34da-8ccb-6b7cd48fe6e6\\\",\\\"type\\\":\\\"ymedia:type=story\\\"},{\\\"id\\\":\\\"da0c90a6-c14f-31f0-95f0-27bfe86d2eef\\\",\\\"type\\\":\\\"ymedia:type=story\\\"},{\\\"id\\\":\\\"7c421fc6-8708-3f08-9307-8932984a1679\\\",\\\"type\\\":\\\"ymedia:type=story\\\"},{\\\"id\\\":\\\"92a7656c-a685-3334-b590-ff44a9d0f51f\\\",\\\"type\\\":\\\"ymedia:type=story\\\"},{\\\"id\\\":\\\"2914f86c-1277-30f0-9579-9ee5a0b03fb5\\\",\\\"type\\\":\\\"ymedia:type=story\\\"},{\\\"id\\\":\\\"8900a359-6902-3eb1-928b-8ec030eb554c\\\",\\\"type\\\":\\\"ymedia:type=story\\\"},{\\\"id\\\":\\\"75bfb132-39ae-3749-aa9a-7ffd06e3b8ec\\\",\\\"type\\\":\\\"ymedia:type=story\\\"},{\\\"id\\\":\\\"7bc09d2f-8f44-34ef-8000-8d4e2a1c5a59\\\",\\\"type\\\":\\\"ymedia:type=story\\\"},{\\\"id\\\":\\\"636632a3-38c7-3b38-a39c-41a476037a5d\\\",\\\"type\\\":\\\"ymedia:type=story\\\"},{\\\"id\\\":\\\"b6d8cc13-cfbd-3598-a977-da95ae9919b6\\\",\\\"type\\\":\\\"ymedia:type=story\\\"},{\\\"id\\\":\\\"c9759a5b-ca9f-3de0-b757-6e08a17ac615\\\",\\\"type\\\":\\\"ymedia:type=story\\\"},{\\\"id\\\":\\\"2726b027-2fbc-38a5-80c6-69254023c591\\\",\\\"type\\\":\\\"ymedia:type=story\\\"},{\\\"id\\\":\\\"6300f455-e04a-3b65-b3f9-42d4d49ca939\\\",\\\"type\\\":\\\"ymedia:type=story\\\"},{\\\"id\\\":\\\"1ccaec7d-0c01-3bba-b123-011f01b23a21\\\",\\\"type\\\":\\\"ymedia:type=story\\\"},{\\\"id\\\":\\\"070b31bb-0cb9-36a2-a96a-e5c00f250097\\\",\\\"type\\\":\\\"ymedia:type=story\\\"},{\\\"id\\\":\\\"d114367e-ad66-3b03-89b7-b371733848bc\\\",\\\"type\\\":\\\"ymedia:type=story\\\"},{\\\"id\\\":\\\"534a6624-9666-3d75-8495-52a60df9a304\\\",\\\"type\\\":\\\"ymedia:type=story\\\"},{\\\"id\\\":\\\"c077f8f7-83f6-3064-9961-7c02429c5fee\\\",\\\"type\\\":\\\"ymedia:type=story\\\"},{\\\"id\\\":\\\"d7414e86-6d29-3f8b-a08f-d4cb1de1d020\\\",\\\"type\\\":\\\"ymedia:type=story\\\"},{\\\"id\\\":\\\"75fdf45c-711f-313e-8c6e-9237764d88c4\\\",\\\"type\\\":\\\"ymedia:type=story\\\"},{\\\"id\\\":\\\"af3e782c-8cd8-3ab4-99ed-7fb1f7f5409d\\\",\\\"type\\\":\\\"ymedia:type=story\\\"},{\\\"id\\\":\\\"c27be57b-1b13-3c5c-8281-e2a309f65031\\\",\\\"type\\\":\\\"ymedia:type=story\\\"},{\\\"id\\\":\\\"7f5f923b-0ed4-3757-8dbc-905cdfce725e\\\",\\\"type\\\":\\\"ymedia:type=story\\\"},{\\\"id\\\":\\\"4b57b645-27d7-3c57-89d8-10dafedb3a73\\\",\\\"type\\\":\\\"ymedia:type=story\\\"},{\\\"id\\\":\\\"7d66f8bf-34b6-3da3-bcaf-27bef17ae0d5\\\",\\\"type\\\":\\\"ymedia:type=story\\\"},{\\\"id\\\":\\\"369b540a-095b-3190-af55-c92ed251cce0\\\",\\\"type\\\":\\\"ymedia:type=story\\\"}],\\\"expId\\\":\\\"megastream_unified__en-US__finance__default__default__desktop__contentsim-rs-1__noSplit\\\"},\\\"geminiToken\\\":\\\"2###GEMINI_TOKEN###CjYIkqVEEMTB1-PJ0v3H2QEYmqyOl8SC3uoLIP2PkP-nsenVKioRVGhlIEJ1aWxkZXIgRGVwb3QSEjYzODg3NzU2MDMwNTEyNTQyOBgBIPqbkgI\\\"}\"}}}}},\"ncpRequests\":{\"RELATED\":{\"query\":{\"namespace\":\"media\",\"id\":\"related-content-stream\",\"version\":\"v1\",\"configId\":\"contentsim\",\"adsMultiModuleDedupeEnabled\":true}}},\"offnet\":{\"include_lcp\":true,\"use_preview\":true,\"url_scheme\":\"domain\"},\"useNCP\":true,\"video\":{\"enable_video_enrichment\":true},\"ads\":{\"ad_polices\":true,\"contentType\":\"video/mp4,application/x-shockwave-flash,application/vnd.apple.mpegurl\",\"count\":25,\"enableFlashSale\":true,\"enableGeminiDealsWithoutBackground\":true,\"frequency\":4,\"geminiPromotionsEnabled\":true,\"generic_viewability\":true,\"inline_video\":true,\"partial_viewability\":true,\"pu\":\"finance.yahoo.com\",\"se\":4492794,\"spaceid\":\"1183300002\",\"start_index\":0,\"timeout\":0,\"type\":\"STRM,STRM_CONTENT,STRM_VIDEO\",\"useHqImg\":true,\"useResizedImages\":true},\"batches\":{\"pagination\":true,\"size\":10,\"timeout\":1500,\"total\":170},\"enableAuthorBio\":true,\"max_exclude\":0,\"min_count\":3,\"min_count_error\":true,\"no_ss_pnr_ntk\":true,\"service\":{\"specRetry\":{\"enabled\":false}},\"category\":\"\",\"pageContext\":{\"pageType\":\"home\",\"subscribed\":\"0\",\"eventName\":\"\",\"topicName\":\"\",\"category\":\"\",\"quoteType\":\"\",\"calendarType\":\"\",\"screenerType\":\"\"},\"content_site\":\"finance\",\"use_prefetch\":true}}},\"context\":{\"feature\":\"adsMigration,canvassOffnet,ccOnMute,debouncesearch100,deferDarla,emptyServiceWorker,enableCCPAFooter,enableCMP,enableConsentData,enableFeatureTours,enableFinancialsTemplate,enableFreeFinRichSearch,enableGuceJs,enableGuceJsOverlay,enableNavFeatureCue,enableNewResearchInsights,enablePfSummaryForEveryone,enablePremiumSingleCTA,enablePremiumScreeners,enablePrivacyUpdate,enableStreamDebounce,enableTheming,enableUpgradeLeafPage,enableVideoURL,enableYahooSans,enableYodleeErrorMsgCriOS,ncpListStream,ncpPortfolioStream,ncpQspStream,ncpStream,ncpStreamIntl,ncpTopicStream,newContentAttribution,newLogo,oathPlayer,optimizeSearch,relatedVideoFeature,reportReactMarkupDiff,threeAmigos,waferHeader,videoNativePlaylist,disableCommentsMessage,livecoverage,darlaFirstRenderingVisible,enableTradeit,disableTrading,enableFeatureBar,enableSearchEnhancement,enableUserSentiment,enableBankrateWidget,ncpHpStream,mabHpStream,canvassReplies,enablePremiumFinancials,enableInstapage,enableNewResearchFilterMW,enableSingleRail,showMorningStar,enableYodlee,enableReportDetail,enhanceAddToWL,sponsoredAds,enableStageAds,enableTradeItLinkBrokerSecondaryPromo,premiumPromoHeader,enableQspPremiumPromoSmall,clientDelayNone,threeAmigosMabEnabled,threeAmigosAdsEnabledAndStreamIndex0,enableRelatedTickers,enableNotification,streamBucketIdRS1\",\"bkt\":\"fd-hstrm2-rc3\",\"crumb\":\"o6irUKrCxf0\",\"device\":\"desktop\",\"intl\":\"us\",\"lang\":\"en-US\",\"partner\":\"none\",\"prid\":\"3nj5vehfj9r2c\",\"region\":\"US\",\"site\":\"finance\",\"tz\":\"Asia/Shanghai\",\"ver\":\"0.102.3864\",\"ecma\":\"modern\"}}'\n",
    "\n",
    "res = requests.post(url, data=data, headers=headers)\n",
    "print(res.text)"
   ]
  },
  {
   "cell_type": "code",
   "execution_count": 16,
   "metadata": {},
   "outputs": [
    {
     "data": {
      "text/plain": [
       "'Apr 15, 2020 07:48:00'"
      ]
     },
     "execution_count": 16,
     "metadata": {},
     "output_type": "execute_result"
    }
   ],
   "source": [
    "s = 'Wed Apr 15 07:48:00 UTC 2020'\n",
    "res = s.split()\n",
    "[res[1], res[2], res[-1], res[3]]\n",
    "\" \".join(res[1:3]) + \", \" + res[-1] + \" \" + res[3]"
   ]
  },
  {
   "cell_type": "code",
   "execution_count": 2,
   "metadata": {},
   "outputs": [
    {
     "name": "stdout",
     "output_type": "stream",
     "text": [
      "76\n"
     ]
    }
   ],
   "source": [
    "s = 'MMD and Phillips Launch the 279C9 27\" Montior: FreeSync 4K IPS & USB Type-C '\n",
    "print(len(s))"
   ]
  },
  {
   "cell_type": "code",
   "execution_count": null,
   "metadata": {},
   "outputs": [],
   "source": [
    "import requests\n",
    "url = 'http://www.dl.gov.cn/gov/detail/detail.vm?diid=101D07000200709091220072854&lid=3_4_5'\n",
    "\n",
    "res = requests.get(url)\n",
    "print(res.text)"
   ]
  },
  {
   "cell_type": "code",
   "execution_count": 4,
   "metadata": {},
   "outputs": [
    {
     "data": {
      "text/plain": [
       "2444.777777777778"
      ]
     },
     "execution_count": 4,
     "metadata": {},
     "output_type": "execute_result"
    }
   ],
   "source": [
    "22003/9"
   ]
  },
  {
   "cell_type": "code",
   "execution_count": 7,
   "metadata": {},
   "outputs": [
    {
     "name": "stdout",
     "output_type": "stream",
     "text": [
      "<!DOCTYPE html PUBLIC \"-//W3C//DTD XHTML 1.0 Transitional//EN\" \"http://www.w3.org/TR/xhtml1/DTD/xhtml1-transitional.dtd\">\n",
      "<html>\n",
      "<head>\n",
      "<meta http-equiv=\"Content-Type\" content=\"text/html; charset=utf-8\">\n",
      "<meta content=\"{qqQV6z2ACmtRVyj1bYHF4pfXDj6RhxGq*yobSmmuSksPZNJTQehfpHt9AItqSblT3Nx9rIKPAPQqenmuE1FSmnEuxwhXRETbs9xeWNu9v9KQGvZv6ktJmY5unSp8x.gUtPQHNndlieHtWz6cdk1iSKgbOAwj2p0ldSU5fH_65dxWYa_vhWW7e.uvh5WL3.ul.KwipN49M3FyEbdPBYQzeogmu8HENm6CB8QNeaaUhRAyLZZV.EVJrhendYYHTnZn.sI3zjeVj9M5q9bocSQj9njDX.QNVn_Tt9t4flGYDXt3Yv.cndhxR_fld9I_VZ40KgF4zneoc7Q.RkeunstxSnbnFtYhewPlFYIwqNGCIK1NpBS11uQxSnfOtmFgrn7khWsLL7XscfUtNH9lIFM4zbBYbeR.SJPkuqpRY.9ohpQEzn90E7HYy2pVrQxbJ1w23utlJRpYxSh6T3i2GXxYRS86JOW6yjIUJHWum5V0zJ1Ur8x27Gt6fxVD7.86L7s2ydH1YlsbNJQayl8kT_WlmSpCScMYy_K0JCEmf_UCSlQlrK1nE1W0Yzp6NXAb9um6y5VYWBwoYxRCe6VTz01YSm8lT_Male80A7FPeuFolaQnNcFu07psfEQ63osvYpt6yC8PzEckl61rpXQ1VHQ1ruiOWyFOpurkJgw1LXxlqBtuVBmYmAVGgbkCVqhnrEmkTQpq2jroJmpklepDaRMpz_muqQRGWaoUqYwf0eKD7oFfJct9xVHpptWCQpVp7vmKLZssGX0PIsh8Y0ST_bxwySZ6H.WeJljukyFB2N_KFGQXeS4vOTWixbgskdQHJC5uC_F5YjdVhlA.3eemUAxBRTyl6C83gS99uOVzlXgU4WKEA2doowQZVuSD.oQdluOC471NTS096IVIWbdbU.MLTXd1Pq1e9eG0sVFzwu9ooEQexc9uCnwNrZNT_LUBWSBCKuVdYKO6_q8hz8_1KUQMfuLOifF.SuOkHaMFJ0GKXZYhTJLD5dt5TLL958s3YmbO69phmjOoHJQRwuO0hEHRmN6vKdFMxAL1IwQ3T1bK_xRzfbLv41xFNSf6iIWyNjbUi.3zzSOUiYABqq~RixJud2HFYH2QSGHq1eeZd96SkjrA6C_NAXZx.AH9sZ2Ny04rFNeETGO6KXRVgqHlMW7Euq.2YRRFbbhLKepxeAHI8BzY6oB6I30haYsH8QSU6AH58dz06T6JFLpuNG5hMtSd9GiSV3px20XX1Mr7LYogctSxeajFYRRMfDPpV5rCNA5tMNWk4oXw8yfs9YbLAjzegqbLUtgqfChb3RExOAHpq3YrfvKl1.mzfKosIRSijo198yRyB6D_mzLHnqOlkZ3KbVBHwxJ6.Db2VxTF2YtMm7gHSqOEkZLK2VL412x5AolaqV7xR2m9q9qhMbJEVoSEpYNxVsRVplSDI62M3qSMK03qqq{MWX3k6qkYcxzpbT8HUWYmfYFRKLgqTAMochrpf2XmY_Se2TPsV3WQbVtxULJ1nGOirWwQv01KYDmoM9l7UCxw30R9YDWqr1q8http:3hz3NPNPxPm2NCWC4J3I8q:80qD578057!x7z,aac,amr,asm,avi,bak,bat,bmp,bin,c,cab,css,csv,com,cpp,dat,dll,doc,dot,docx,exe,eot,fla,flc,fon,fot,font,gdb,gif,gz,gho,hlp,hpp,htc,ico,ini,inf,ins,iso,js,jar,jpg,jpeg,json,java,lib,log,mid,mp4,mpa,m4a,mp3,mpg,mkv,mod,mov,mim,mpp,msi,mpeg,obj,ocx,ogg,olb,ole,otf,py,pyc,pas,pgm,ppm,pps,ppt,pdf,pptx,png,pic,pli,psd,qif,qtx,ra,rm,ram,rmvb,reg,res,rtf,rar,so,sbl,sfx,swa,swf,svg,sys,tar,taz,tif,tiff,torrent,txt,ttf,vsd,vss,vsw,vxd,woff,woff2,wmv,wma,wav,wps,xbm,xpm,xls,xlsx,xsl,xml,z,zip,apk,plist,ipaHURmBLDK.FtYzNDg bDfabwUpzMCL_FCJAISag1vJoI9m0ruNHIfLgw0YDwlRT1vyupAZ_AozcIa0gF0e28mNCUvTCFAYOq2ArsAzgMozt1DYskU2TJqRRETVxwASNkUAi1Uxmm2aiMGJkI9LZVqJ.ivQvhreVJ6WTUnf0JYlWwpwzoYEWwAJ7lol3UsW0cD06ASzcMUqTMamtq69MYc7.E0LQIpe7k2l28pyBxVZpFfzUKUqmVTeMmK9wsrpQ10xltqp7qmVZtSY8JC2HJrx7xlEQFPN8mUBPhQzHeD4ytWT1_ToEtXJZn2OFhMgP6YhwhMeNBusmKt9j_T82Yer.ZksnFdGXZnC7wZNY0bkYIz0X_UM3QHxdTCdCVQeqC6HuI7wGTcdiwERHyDkfwWw6y0OxpQGNC6H0UNW_SoBIMelv20UXww3zPmH7EerSOm6IwdEjSCdL3.lgda1KUeCDPvBtdVg4vMCWqqqq{6YxW9ZOHSoImNNK12RjyvBuIBxX9SZPkJJI9SLbKDiQgaTuODoQrN9DF83NyfnO8AWNT9vCMtRxAabs8FJep2fKIUREECGCcsxZETau6Mrza2uuoEEElzCcQqqqqqqql1kevqr1qVM0R8QTR5KUzwQYNgU6yFq.STeXJ_Hwu1cUooKENWV1iolYdQEU5uagPVtWZuVgJjLqqqr4qr0qr0qr7qk674qt1083179040ql4608qhijoox1L_3a5qhLUBl_qpwaj_qYIjJ140ahxLOB0o_PkmxV3qheZUUY7j1_cQqr0\"><!--[if lt IE 9]><script r='m'>document.createElement(\"section\")</script><![endif]--><script type=\"text/javascript\" charset=\"iso-8859-1\" src=\"/1tds8YZ9Yr1l/EuvBLOCzARIT.5780574.js\" r='m'></script><script type=\"text/javascript\" r=\"m\">(function(){var _$Pp=0,_$Pj=[[6,8,7,8,0,3,9,2,1,5,1,4],[67,40,94,48,86,62,69,11,68,11,49,93,92,11,36,3,80,74,41,50,90,89,12,71,5,44,11,61,33,38,6,38,25,27,64,19,97,29,87,13,19,91,28,8,79,10,19,31,55,81,48,0,19,2,60,98,32,99,20,46,35,19,58,42,19,75,30,56,78,11,85,17,51,56,52,7,11,18,56,11,47,48,63,34,53,26,59,11,22,45,43,23,84,57,15,82,65,1,76,95,14,83,96,9,21,73,37,77,54,66,16,4,39,88,24,70,72,11],[1,26,12,0,7,23,18,5,14,30,16,28,27,14,11,32,2,32,10,3,4,31,9,33,8,6,8,22,2,21,2,29,2,13,19,2,20,2,17,24,25,15,14],[40,33,34,10,0,38,26,2,20,19,4,23,5,45,25,16,30,7,17,14,41,42,12,45,46,0,18,44,6,31,27,33,48,8,35,22,48,9,15,37,24,37,1,32,45,37,13,32,7,43,39,29,47,36,11,24,32,13,43,1,21,3,28,15],[29,16,23,12,17,0,7,10,31,28,30,17,3,20,1,17,21,24,1,35,18,6,11,4,2,22,26,35,32,5,9,25,8,4,13,26,27,32,17,34,33,15,19,28,14,17]];function _$uW(_$hg,_$Ig){return _$3P.Math.abs(_$hg)%_$Ig;}function _$m1(_$6v){_$6v[_$uW(_$6v[_$uW(_$M7()+_$40(),16)],16)]=_$VS(_$6v);var _$n4=_$Ib(_$6v);var _$n4=_$bd(_$6v);_$6v[7]=_$TM();_$Rv(_$6v);return _$6v[_$uW(_$TM()-_$6v[_$uW(_$Jl(),16)],16)];}function _$M7(){return 5}function _$40(){return 11}function _$VS(_$6v){_$6v[_$uW(_$TM(),16)]=_$GX();_$6v[9]=_$cI();_$6v[_$uW(_$hN(),16)]=_$US();var _$n4=_$M7();if(_$_C()){_$6v[_$uW(_$ON(),16)]=_$Jl();}return _$5T();}function _$TM(){return 13}function _$GX(){return 3}function _$cI(){return 15}function _$hN(){return 10}function _$US(){return 8}function _$_C(){return 7}function _$ON(){return 2}function _$Jl(){return 0}function _$5T(){return 1}function _$Ib(_$6v){_$6v[_$uW(_$oa(),16)]=_$cI();var _$wf=_$US();var _$n4=_$F_();var _$n4=_$ON();return _$Jl();}function _$oa(){return 9}function _$F_(){return 6}function _$bd(_$6v){_$Ep(_$6v);_$6v[11]=_$5T();_$Po(_$6v);_$6v[_$uW(_$M7(),16)]=_$40();return _$5T();}function _$Ep(_$6v){_$6v[_$uW(_$40(),16)]=_$5T();_$6v[_$uW(_$X3(),16)]=_$ON();_$6v[_$uW(_$oa(),16)]=_$cI();return _$M7();}function _$X3(){return 4}function _$Po(_$6v){var _$n4=_$Jl();var _$KX=_$4d();_$6v[_$uW(_$M7(),16)]=_$40();_$6v[1]=_$_C();_$6v[_$uW(_$ON(),16)]=_$Jl();return _$4d();}function _$4d(){return 14}function _$Rv(_$6v){var _$KX=_$F1();var _$n4=_$vp(_$6v);if(_$5T()){_$6v[7]=_$TM();}if(_$M7()+_$40()){_$WA(_$6v);}_$xH(_$6v);var _$n4=_$5T();var _$wf=_$6v[_$uW(_$X3(),16)];_$6v[_$uW(_$6v[_$uW(_$Jl(),16)],16)]=_$Cl(_$6v);return _$ct(_$6v);}function _$F1(){return 12}function _$vp(_$6v){_$6v[_$uW(_$5T(),16)]=_$_C();_$6v[13]=_$GX();_$6v[_$uW(_$4d(),16)]=_$F1();return _$hN();}function _$WA(_$6v){var _$n4=_$GX();var _$KX=_$oa();_$6v[15]=_$M7();_$6v[_$uW(_$US(),16)]=_$F_();return _$X3();}function _$qD(_$6v){_$6v[0]=_$4d();_$6v[_$uW(_$M7(),16)]=_$40();var _$wf=_$X3();var _$n4=_$ON();return _$Jl();}function _$xH(_$6v){if(_$M7()){_$6v[11]=_$5T();}var _$n4=_$4d();var _$n4=_$F1();_$6v[10]=_$US();var _$n4=_$X3();_$6v[2]=_$Jl();return _$xh(_$6v);}function _$xh(_$6v){var _$n4=_$40();var _$wf=_$5T();_$6v[7]=_$TM();_$6v[_$uW(_$Jl(),16)]=_$4d();return _$F1();}function _$Cl(_$6v){var _$wf=_$40();var _$KX=_$5T();_$6v[_$uW(_$X3(),16)]=_$ON();_$6v[0]=_$4d();return _$F1();}function _$ct(_$6v){_$6v[8]=_$F_();_$6v[4]=_$ON();var _$KX=_$_C();if(_$oa()){_$6v[_$uW(_$F1(),16)]=_$hN();}_$aZ(_$6v);return _$5T();}function _$aZ(_$6v){var _$n4=_$F1();var _$n4=_$hN();var _$n4=_$_C();var _$KX=_$TM();var _$KX=_$oa();var _$n4=_$M7();return _$40();}var _$Rn,_$PF,_$3P,_$Bl,_$Q1,_$m1,_$Ck;var _$F4,_$qB,_$oH=_$Pp,_$ZL=_$Pj[0];while(1){_$qB=_$ZL[_$oH++];if(_$qB<4){if(_$qB<1){_$Q1=_$3P['$_ts'];}else if(_$qB<2){_$oH+=-7;}else if(_$qB<3){_$Q1=_$3P['$_ts']={};}else{_$F4= !_$Q1;}}else if(_$qB<8){if(_$qB<5){return;}else if(_$qB<6){_$3P=window,_$Ck=String,_$Bl=Array;}else if(_$qB<7){_$Rn=[4,16,64,256,1024,4096,16384,65536];}else{_$1D(0);}}else{if(_$qB<9){_$oH+=7;}else{if( !_$F4)_$oH+=1;}}}function _$1D(_$n4,_$hg){function _$Dk(){var _$Ck=_$uO.charCodeAt(_$0L++ ),_$uW;if(_$Ck<128){return _$Ck;}else if(_$Ck<251){return _$Ck-32;}else if(_$Ck===251){return 0;}else if(_$Ck===254){_$Ck=_$uO.charCodeAt(_$0L++ );if(_$Ck>=128)_$Ck-=32;_$uW=_$uO.charCodeAt(_$0L++ );if(_$uW>=128)_$uW-=32;return _$Ck*219+_$uW;}else if(_$Ck===255){_$Ck=_$uO.charCodeAt(_$0L++ );if(_$Ck>=128)_$Ck-=32;_$uW=_$uO.charCodeAt(_$0L++ );if(_$uW>=128)_$uW-=32;_$Ck=_$Ck*219*219+_$uW*219;_$uW=_$uO.charCodeAt(_$0L++ );if(_$uW>=128)_$uW-=32;return _$Ck+_$uW;}else if(_$Ck===252){_$uW=_$uO.charCodeAt(_$0L++ );if(_$uW>=128)_$uW-=32;return -_$uW;}else if(_$Ck===253){_$Ck=_$uO.charCodeAt(_$0L++ );if(_$Ck>=128)_$Ck-=32;_$uW=_$uO.charCodeAt(_$0L++ );if(_$uW>=128)_$uW-=32;return _$Ck* -219-_$uW;}else{}}var _$0L,_$uO,_$Xp,_$zR,_$Ck,_$uW,_$Pp,_$oH,_$F4,_$t2,_$qB,_$ZL,_$6v,_$Ru,_$9b,_$wf,_$KX,_$dW,_$pn,_$6h;var _$40,_$TM,_$M7=_$n4,_$GX=_$Pj[1];while(1){_$TM=_$GX[_$M7++];if(_$TM<64){if(_$TM<16){if(_$TM<4){if(_$TM<1){_$dW=_$uO.substr(_$0L,_$ZL).split(String.fromCharCode(255));}else if(_$TM<2){_$hg._$8I=\"_$Ib\";}else if(_$TM<3){_$0L+=_$ZL;}else{_$Ck+=\"RnPF3PBlQ1m1hgIgDkuOXpzR0LpnRudWnOHzXZr5m2P3bZgUBT6dr$9HbSh9M4QbNO8vGwlb2SWSPjIe1DWGFeZUCkuWPpoHF4t2qBZL6v6h9bwfKXn4M740VSTMGXcIhNUS_CONJl5TIboaF_bdEpX3Po4dRvF1vpWAqDxHxhClctaZCphE98T7aK$8\";}}else if(_$TM<8){if(_$TM<5){_$hg._$LF=\"_$ZZ\";}else if(_$TM<6){_$Ck+=\"7W32LwGP_oT3rfYDJ6FuS$65DBeNyUZ3Bx8Zn5tgMYCSgi3b$9GhPOWQN$FsfwT$mrNcvgGYmazoeIy$_JdDSRt3Hd7OtGWHN2FEHSHaKYYTNyJJB069k8xSv73zfhmSJ8NKeW5U5YslpePG0aOycqTeZWzhVCXdlO_qWx48T2MmN9ZmuG_zr0WpCLEQgJlz\";}else if(_$TM<7){_$hg._$2S=17;}else{return 0;}}else if(_$TM<12){if(_$TM<9){var _$pn=_$Dk();}else if(_$TM<10){_$hg._$Pj=\"WtrgjQVU7Kq\";}else if(_$TM<11){var _$qB=_$Dk();}else{return;}}else{if(_$TM<13){_$Ck+=\"Jbs_VVjmNg6qnrU1iwi2wc26ow3mjOzsmEhnRMHJ0my5ZT8ReVIch4KDt_GVs9EIYmG$HT2nbTh1RyhPXxW3dLKpBvMZ4TwHq3chi_V90kOVxQMHxc80qU2X6evxI1vJt8mQVB0I59rWUcW8H7LUSdPatk6Y8qNYq4V4211rgE5H94bGYeAmCEArOoVd\";}else if(_$TM<14){var _$0L=0;}else if(_$TM<15){_$hg._$GX=\"_$bd\";}else{_$hg._$vh=\"_$ON\";}}}else if(_$TM<32){if(_$TM<20){if(_$TM<17){_$hg._$9b=\"_$ki\";}else if(_$TM<18){_$Ck=_$Ck.replace(RegExp('[\\\\r\\\\n\\\\s]','g'),\"\");}else if(_$TM<19){_$40=_$hg===undefined||_$hg===\"\";}else{}}else if(_$TM<24){if(_$TM<21){_$6v.push(\")();\");}else if(_$TM<22){_$hg._$hg=\"E55ZQogIzm5Z7MzmHgguUg\";}else if(_$TM<23){_$Q1[\"5780574\"]=_$PF;}else{_$hg._$WS=5;}}else if(_$TM<28){if(_$TM<25){_$hg._$ZL=\"_$aQ\";}else if(_$TM<26){var _$Xp=_$Q1._$QZ;}else if(_$TM<27){ret=_$Ck.call(_$3P,_$hg);}else{var _$Ck=_$1D(8);}}else{if(_$TM<29){var _$t2=_$Dk();}else if(_$TM<30){var _$Pp=_$1D(70);}else if(_$TM<31){_$40=_$KX-_$Ck>12000;}else{_$6h=_$Dk();}}}else if(_$TM<48){if(_$TM<36){if(_$TM<33){for(_$9b=0;_$9b<_$6h;_$9b++ ){_$WG(14,_$9b,_$6v);}}else if(_$TM<34){var _$uO=_$Q1[\"5780574\"];}else if(_$TM<35){_$M7+=2;}else{_$Q1._$F4-=_$1D(8);}}else if(_$TM<40){if(_$TM<37){var _$Ck='';}else if(_$TM<38){_$hg._$Bl=_$m1;}else if(_$TM<39){_$M7+=58;}else{_$hg._$wf=\"_$ie\";}}else if(_$TM<44){if(_$TM<41){_$1D(30,_$Q1);}else if(_$TM<42){_$Ck+=\"ARmwfzNA3fJLrziCQehDAgXvoNcn7N1UmFEUUdXYIQsPFadBWdqFob8ERIg9$S5sK0avTXqKvGtJQScpDA8D7k7gnpLpxqWLXtTtWz7Vzm7tBqoeLixRKa$o_ts3ZE9U5PcTGTpBblyDPDEW8MMeb1$C9oXJz4W$D6dnrN_ZxmpuZqsCmKh5$EDLFpLI\";}else if(_$TM<43){_$1D(77,_$wf);}else{_$hg._$3P=130;}}else{if(_$TM<45){return _$1D(10,_$Ck);}else if(_$TM<46){_$M7+=-58;}else if(_$TM<47){var _$wf=_$6v.join('');}else{_$40=_$3P.execScript;}}}else{if(_$TM<52){if(_$TM<49){if( !_$40)_$M7+=2;}else if(_$TM<50){var _$Ck,_$uW,_$Pp=_$hg.length,_$oH=new _$Bl(_$Pp/2),_$F4='_$';}else if(_$TM<51){_$Ck+=\"WItlbumBSYbcJihbRkS2EZ74aAPqjWuNVMHpgqtT9pvQYC3ebBTyQtyYm6iqpJcyWwwOa5kN8AQKorVDSMXFDjsLsm3KAWRUB8EEg4fKPRUwNNwblMaFAQ1HyWTunQhA5NLNN6f4uzlu23nkH0D3e7W_XLFDzre217bXS0K6E63gYybNqn$asikxuJt6\";}else{_$40=_$Ck!==\"functioneval(){[nativecode]}\";}}else if(_$TM<56){if(_$TM<53){return 1;}else if(_$TM<54){_$Ck=_$3P.eval;}else if(_$TM<55){_$hg._$hL=117;}else{var _$ZL=_$Dk();}}else if(_$TM<60){if(_$TM<57){if( !_$40)_$M7+=1;}else if(_$TM<58){_$hg._$vr=\"_$_C\";}else if(_$TM<59){_$uW=_$1D(8);}else{return ret;}}else{if(_$TM<61){var _$6v=[];}else if(_$TM<62){_$Q1._$F4=new Date().getTime();}else if(_$TM<63){_$M7+=1;}else{ret=_$3P.execScript(_$hg);}}}}else{if(_$TM<80){if(_$TM<68){if(_$TM<65){var _$uW=_$1D(8);}else if(_$TM<66){_$hg._$Py=\"_$5T\";}else if(_$TM<67){_$hg._$u_=\"_$MN\";}else{_$Q1._$QZ=_$1D(14);}}else if(_$TM<72){if(_$TM<69){return new Date().getTime();}else if(_$TM<70){_$WG(0);}else if(_$TM<71){_$hg._$E2=\"_$1C\";}else{_$Ck+=\"L2VlXkhsbp2egBUL$dAvo5FiDpGJSuyASIiMyTd3Nf4jgGfSxxbOwaRr7elNp1moRmawRhvO5C0c$6WXuk8YndlBOBtENsKcfYxuW6AH$pHyymn$27MXlEHQaM10FHqm4AquS_6Kr2Pw$2GsMsnA9erj0hOkMLcLwgSJYuDqUFQzHNw1Rpb5AG7lFbIB\";}}else if(_$TM<76){if(_$TM<73){_$hg._$KX=\"_$8i\";}else if(_$TM<74){_$hg._$P3=\"f7wHOJeSSKG\";}else if(_$TM<75){_$Ck+=\"e_uXVmkGv8KjBGPU6laOu1jTFAu2BCo0XRFzYaLuR2a1YoPlYZBsu_LFTNE2j2Gn5dQ2X0r37s0Ak3VoICAKFx8BHwA8BHTgmMdiEBYrJSgIBp2ae6nwbPZg_3J5szxYpYx1zvO92qE3U27osunjvYePMwcS60YIxOKKo21LFlUC50qq9lGx6zGtOaAp\";}else{var _$KX=_$1D(8);}}else{if(_$TM<77){_$hg._$$x=\"_$oa\";}else if(_$TM<78){_$hg._$6h=\"Mz_Tpz9ThAoqGFZF5zClrq\";}else if(_$TM<79){_$Q1._$Bs=1;}else{var _$Ru=_$Dk();}}}else if(_$TM<96){if(_$TM<84){if(_$TM<81){_$Ck+=\"dz51wxqZ0ZC9opy8ddXGRP81L4jRLB3L0CydQlNeJXQPkChyb47B_klnsnTKWEHjzH$Hs1PsP6Don9KPhC3WLoGpubWaOHvhvrPy8I$xUaFGoh75kU1hrEN3j$ki2gtz2ot$$XOgkzR1ievm8iaQVf9$hLyQ1gxJFFQZ$GX9B3g1zecR1_fqbqcDOd5W\";}else if(_$TM<82){_$40=_$6h>0;}else if(_$TM<83){_$hg._$FG=\"_$Jl\";}else{_$hg._$TM=\"_$6v\";}}else if(_$TM<88){if(_$TM<85){_$hg._$Ua=\"_$F_\";}else if(_$TM<86){var _$Ck=_$3P.eval.toString();}else if(_$TM<87){_$1D(27);}else{var _$oH=_$uO.length;}}else if(_$TM<92){if(_$TM<89){_$hg._$TN=\"_$jX\";}else if(_$TM<90){_$Ck+=\"miEskl8smJlZJkKyttxeBaT1xpms2Hl$ZjMT0y6tRceXNZeuQJc52D2WHCnvdTtwJwOKrqzf0xOqvbE9$_Xwhe8zag$mocKsQ4N8QoBtHYjI9jQwFLAjQDHPN74p1ovTcGXfuYjHYzZJshZrDQ05p4I262bb9OLdtQUu04SvWZZM8m8WSy82o8wo_lvZ\";}else if(_$TM<91){_$Ck+=\"EPbiTOTGIKxA7rxvqj$twrkwpEg8$cwUH8n0mX6Cz2czUEYltX9A9vyIodHcRss6bt4HaBtFeGmWsOM5ezTRjLObQL$W6PmIbYuBzycaKoeYL8Y3C$nPKJA0qYlyuQeK25E4013$ComAR5CC445I3RQiLyCxPShI9M3F6y$1uTZVgYdwU$CqgRDTMBIA\";}else{var _$F4=_$Dk();}}else{if(_$TM<93){return _$oH;}else if(_$TM<94){for(_$Ck=0,_$uW=0;_$uW<_$Pp;_$uW+=2){_$oH[_$Ck++ ]=_$F4+_$hg.substr(_$uW,2);}}else if(_$TM<95){_$40=_$Q1[\"5780574\"];}else{_$hg._$oh=\"_$Ep\";}}}else{if(_$TM<97){_$hg._$Q1=\"e6GQIpyeqNa\";}else if(_$TM<98){var _$zR=_$Q1.aebi=[];}else if(_$TM<99){var _$6h=_$Dk();}else{for(_$9b=0;_$9b<_$6h;_$9b++ ){_$6v.push(\"}\");}}}}}function _$WG(_$oH,_$nO,_$Hz){function _$XZ(){var _$qB=[0];Array.prototype.push.apply(_$qB,arguments);return _$Fe.apply(this,_$qB);}var _$Ck,_$uW,_$Pp,_$r5,_$m2,_$P3,_$bZ,_$gU,_$BT,_$6d,_$r$,_$9H,_$bS,_$h9,_$M4,_$Qb;var _$t2,_$ZL,_$F4=_$oH,_$6v=_$Pj[2];while(1){_$ZL=_$6v[_$F4++];if(_$ZL<16){if(_$ZL<4){if(_$ZL<1){if( !_$t2)_$F4+=4;}else if(_$ZL<2){var _$Ck=document.scripts.length;}else if(_$ZL<3){}else{var _$bZ=_$Dk();}}else if(_$ZL<8){if(_$ZL<5){var _$gU=_$Dk();}else if(_$ZL<6){_$r5.send();}else if(_$ZL<7){var _$m2=_$Dk();}else{_$r5=_$3P.ActiveXObject?new _$3P.ActiveXObject('Microsoft.XMLHTTP'):new _$3P.XMLHttpRequest();}}else if(_$ZL<12){if(_$ZL<9){_$F4+=-9;}else if(_$ZL<10){var _$6d=_$Dk();}else if(_$ZL<11){var _$P3=_$Dk();}else{var _$r5=_$Dk();}}else{if(_$ZL<13){_$t2=_$uW;}else if(_$ZL<14){var _$Ck=_$WG(9);}else if(_$ZL<15){return;}else{_$Fe(9,_$Hz);}}}else if(_$ZL<32){if(_$ZL<20){if(_$ZL<17){var _$uW=new Array(_$Ck);}else if(_$ZL<18){var _$uW=_$Dk();}else if(_$ZL<19){_$r5.onreadystatechange=_$XZ;}else{_$zR[_$nO]=_$Ck;}}else if(_$ZL<24){if(_$ZL<21){var _$M4=_$WG(9);}else if(_$ZL<22){var _$bS=_$WG(9);}else if(_$ZL<23){var _$9H=_$WG(9);}else{_$r5.open('GET',_$uW,false);}}else if(_$ZL<28){if(_$ZL<25){var _$Qb=[];}else if(_$ZL<26){for(_$Pp=0;_$Pp<_$uW;_$Pp++ ){_$Qb[_$Pp]=_$WG(9);}}else if(_$ZL<27){var _$uW=_$Ck>1?document.scripts[_$Ck-2].src:_$PF;}else{return _$uW;}}else{if(_$ZL<29){for(_$Pp=0;_$Pp<_$Ck;_$Pp++ ){_$uW[_$Pp]=_$Dk();}}else if(_$ZL<30){var _$h9=_$WG(9);}else if(_$ZL<31){var _$Ck=_$Dk();}else{var _$BT=_$Dk();}}}else{if(_$ZL<33){_$F4+=9;}else{var _$r$=_$Dk();}}}function _$Fe(_$uW,_$NO){var _$8v,_$Ck;var _$oH,_$t2,_$Pp=_$uW,_$qB=_$Pj[3];while(1){_$t2=_$qB[_$Pp++];if(_$t2<16){if(_$t2<4){if(_$t2<1){if( !_$oH)_$Pp+=1;}else if(_$t2<2){_$NO.push(_$Xp[_$r5]);}else if(_$t2<3){_$NO.push(_$Xp[_$P3]);}else{_$ZU(12,0,_$Qb.length);}}else if(_$t2<8){if(_$t2<5){_$oH=_$nO==0;}else if(_$t2<6){_$NO.push(\"(function(){var \");}else if(_$t2<7){for(_$Ck=0;_$Ck<_$h9.length;_$Ck+=2){_$ZU(0,_$h9[_$Ck],_$h9[_$Ck+1],_$NO);}}else{_$NO.push(_$Xp[_$Ru]);}}else if(_$t2<12){if(_$t2<9){_$NO.push(_$Xp[_$bS[0]]);}else if(_$t2<10){_$Pp+=-31;}else if(_$t2<11){_$oH=_$Q1[\"5780574\"];}else{_$NO.push(\"while(1){\");}}else{if(_$t2<13){_$NO.push(\"(\");}else if(_$t2<14){_$NO.push(_$Xp[_$r$]);}else if(_$t2<15){_$Pp+=8;}else{return;}}}else if(_$t2<32){if(_$t2<20){if(_$t2<17){_$NO.push(_$Xp[_$pn]);}else if(_$t2<18){_$NO.push(\"=$_ts.aebi;\");}else if(_$t2<19){for(_$Ck=0;_$Ck<_$9H.length;_$Ck++ ){_$NO.push(\",\");_$NO.push(_$Xp[_$9H[_$Ck]]);}}else{var _$Ck,_$8v=4;}}else if(_$t2<24){if(_$t2<21){_$Pp+=30;}else if(_$t2<22){_$NO.push(\"++];\");}else if(_$t2<23){_$NO.push(\";\");}else{if( !_$oH)_$Pp+=8;}}else if(_$t2<28){if(_$t2<25){_$NO.push(_$Xp[_$6d]);}else if(_$t2<26){_$NO.push(\"=0,\");}else if(_$t2<27){_$Pp+=31;}else{_$oH=_$bS.length;}}else{if(_$t2<29){_$NO.push(\"}\");}else if(_$t2<30){_$NO.push(\"];\");}else if(_$t2<31){_$NO.push(\"=$_ts.scj,\");}else{_$ZU(39);}}}else if(_$t2<48){if(_$t2<36){if(_$t2<33){_$NO.push(\"=\");}else if(_$t2<34){if( !_$oH)_$Pp+=4;}else if(_$t2<35){_$1D(77,_$r5.responseText);}else{for(_$Ck=1;_$Ck<_$bS.length;_$Ck++ ){_$NO.push(\",\");_$NO.push(_$Xp[_$bS[_$Ck]]);}}}else if(_$t2<40){if(_$t2<37){if( !_$oH)_$Pp+=9;}else if(_$t2<38){_$NO.push(\",\");}else if(_$t2<39){_$1D(27);}else{_$NO.push(_$nO);}}else if(_$t2<44){if(_$t2<41){_$oH=_$r5.readyState==4;}else if(_$t2<42){_$NO.push(\"function \");}else if(_$t2<43){_$NO.push(_$Xp[_$gU]);}else{_$NO.push(\"[\");}}else{if(_$t2<45){_$NO.push(\"){\");}else if(_$t2<46){_$NO.push(_$Xp[_$m2]);}else if(_$t2<47){_$oH=_$9H.length;}else{_$oH=_$Qb.length;}}}else{_$NO.push(\"var \");}}function _$ZU(_$F4,_$Gw,_$lb,_$2S){var _$Ck,_$uW,_$Pp,_$oH;var _$qB,_$6v,_$t2=_$F4,_$6h=_$Pj[4];while(1){_$6v=_$6h[_$t2++];if(_$6v<16){if(_$6v<4){if(_$6v<1){var _$uW=_$Ck.length;}else if(_$6v<2){if( !_$qB)_$t2+=2;}else if(_$6v<3){_$lb-- ;}else{var _$Ck,_$uW,_$Pp,_$oH=_$lb-_$Gw;}}else if(_$6v<8){if(_$6v<5){_$uW=\"if(\";}else if(_$6v<6){_$t2+=8;}else if(_$6v<7){_$qB=_$oH<=_$8v;}else{_$uW-=_$uW%2;}}else if(_$6v<12){if(_$6v<9){}else if(_$6v<10){_$Pp=0;}else if(_$6v<11){for(k=0;k<_$uW;k+=2){_$NO.push(_$dW[_$Ck[k]]);_$NO.push(_$Xp[_$Ck[k+1]]);}}else{if( !_$qB)_$t2+=7;}}else{if(_$6v<13){_$t2+=1;}else if(_$6v<14){for(;_$Gw+_$Pp<_$lb;_$Gw+=_$Pp){_$NO.push(_$uW);_$NO.push(_$Xp[_$6d]);_$NO.push('<');_$NO.push(_$Gw+_$Pp);_$NO.push(\"){\");_$ZU(12,_$Gw,_$Gw+_$Pp);_$uW=\"}else if(\";}}else if(_$6v<15){_$NO.push(_$dW[_$M4[_$Ck]]);}else{for(_$uW=0;_$uW<_$Ck;_$uW+=2){_$NO.push(_$dW[_$M4[_$uW]]);_$NO.push(_$Xp[_$M4[_$uW+1]]);}}}}else if(_$6v<32){if(_$6v<20){if(_$6v<17){_$t2+=2;}else if(_$6v<18){return;}else if(_$6v<19){_$t2+=17;}else{_$qB=_$M4.length!=_$Ck;}}else if(_$6v<24){if(_$6v<21){_$qB=_$oH==0;}else if(_$6v<22){_$t2+=21;}else if(_$6v<23){for(;_$Gw<_$lb;_$Gw++ ){_$NO.push(_$uW);_$NO.push(_$Xp[_$6d]);_$NO.push('<');_$NO.push(_$Gw+1);_$NO.push(\"){\");_$ZU(2,_$Gw);_$uW=\"}else if(\";}}else{var _$Ck=_$Qb[_$Gw];}}else if(_$6v<28){if(_$6v<25){_$qB=_$oH==1;}else if(_$6v<26){for(_$Ck=1;_$Ck<7;_$Ck++ ){if(_$oH<=_$Rn[_$Ck]){_$Pp=_$Rn[_$Ck-1];break;}}}else if(_$6v<27){_$NO.push(\"}else{\");}else{_$ZU(12,_$Gw,_$lb);}}else{if(_$6v<29){if( !_$qB)_$t2+=1;}else if(_$6v<30){_$2S.push([\"function \",_$Xp[_$Gw],\"(){var \",_$Xp[_$bZ],\"=[\",_$lb,\"];Array.prototype.push.apply(\",_$Xp[_$bZ],\",arguments);return \",_$Xp[_$BT],\".apply(this,\",_$Xp[_$bZ],\");}\"].join(''));}else if(_$6v<31){_$NO.push(_$dW[_$Ck[_$uW]]);}else{_$qB=_$Ck.length!=_$uW;}}}else{if(_$6v<33){_$NO.push(\"}\");}else if(_$6v<34){_$Ck-=_$Ck%2;}else if(_$6v<35){var _$Ck=_$M4.length;}else{_$ZU(2,_$Gw);}}}}}}}})()</script></head>\n",
      "<body>\n",
      "<script type='text/javascript' r='m'>\n",
      "_$yQ('WEAu');\n",
      "</script>\n",
      "\n",
      "</body>\n",
      "</html>\n",
      "<script type=\"text/javascript\" r=\"m\">_$X3();</script>\n"
     ]
    }
   ],
   "source": [
    "import requests\n",
    "url = \"http://www.customs.gov.cn/eportal/ui?pageId=302263&currentPage=1&moduleId=528695bc9f7042f09d7c5cd143e01b74&staticRequest=yes\"\n",
    "\n",
    "res = requests.get(url)\n",
    "print(res.text)"
   ]
  },
  {
   "cell_type": "code",
   "execution_count": null,
   "metadata": {},
   "outputs": [],
   "source": []
  }
 ],
 "metadata": {
  "kernelspec": {
   "display_name": "Python 3",
   "language": "python",
   "name": "python3"
  },
  "language_info": {
   "codemirror_mode": {
    "name": "ipython",
    "version": 3
   },
   "file_extension": ".py",
   "mimetype": "text/x-python",
   "name": "python",
   "nbconvert_exporter": "python",
   "pygments_lexer": "ipython3",
   "version": "3.7.0"
  }
 },
 "nbformat": 4,
 "nbformat_minor": 4
}
